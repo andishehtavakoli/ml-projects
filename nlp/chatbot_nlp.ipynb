{
 "cells": [
  {
   "cell_type": "markdown",
   "id": "cea65234",
   "metadata": {},
   "source": [
    "# EchoBot II"
   ]
  },
  {
   "cell_type": "code",
   "execution_count": 12,
   "id": "acd1daea",
   "metadata": {},
   "outputs": [],
   "source": [
    "import time\n",
    "time.sleep(2)\n",
    "\n",
    "def send_message(message):\n",
    "    return {'user': message, 'Bot': respond(message)}\n",
    "\n",
    "def respond(message):\n",
    "    return f\"I can hear you: {message}\""
   ]
  },
  {
   "cell_type": "code",
   "execution_count": 13,
   "id": "dff9eb04",
   "metadata": {},
   "outputs": [
    {
     "data": {
      "text/plain": [
       "{'user': 'hello world', 'Bot': 'I can hear you: hello world'}"
      ]
     },
     "execution_count": 13,
     "metadata": {},
     "output_type": "execute_result"
    }
   ],
   "source": [
    "send_message('hello world')"
   ]
  },
  {
   "cell_type": "markdown",
   "id": "650cdf91",
   "metadata": {},
   "source": [
    "# Smalltalk"
   ]
  },
  {
   "cell_type": "code",
   "execution_count": 15,
   "id": "96caf13e",
   "metadata": {},
   "outputs": [
    {
     "data": {
      "text/plain": [
       "'my name is Elena'"
      ]
     },
     "execution_count": 15,
     "metadata": {},
     "output_type": "execute_result"
    }
   ],
   "source": [
    "responses = {\n",
    "    \"what's your name?\": \"my name is Elena\",\n",
    "    \"what's the weather today?\": \"it's sunny!\"\n",
    "}\n",
    "\n",
    "def respond(message):\n",
    "    if message in responses:\n",
    "        return responses[message]\n",
    "    \n",
    "respond(\"what's your name?\")"
   ]
  },
  {
   "cell_type": "markdown",
   "id": "4999c801",
   "metadata": {},
   "source": [
    "# Including variables"
   ]
  },
  {
   "cell_type": "code",
   "execution_count": 17,
   "id": "03d9fe14",
   "metadata": {},
   "outputs": [
    {
     "data": {
      "text/plain": [
       "'it is cloudy today'"
      ]
     },
     "execution_count": 17,
     "metadata": {},
     "output_type": "execute_result"
    }
   ],
   "source": [
    "responses = {\n",
    "    \"what's today's weather?\": \"it is {} today\"\n",
    "}\n",
    "\n",
    "weather_today = 'cloudy'\n",
    "\n",
    "def respond(message):\n",
    "    if message in responses:\n",
    "        return responses[message].format(weather_today)\n",
    "    \n",
    "respond(\"what's today's weather?\")"
   ]
  },
  {
   "cell_type": "markdown",
   "id": "92bc9d7e",
   "metadata": {},
   "source": [
    "# Choosing responses"
   ]
  },
  {
   "cell_type": "code",
   "execution_count": 35,
   "id": "f41aa6a9",
   "metadata": {},
   "outputs": [
    {
     "data": {
      "text/plain": [
       "'my name is Elena'"
      ]
     },
     "execution_count": 35,
     "metadata": {},
     "output_type": "execute_result"
    }
   ],
   "source": [
    "responses = {\n",
    "    \"what's your name?\":[\"my name is Elena\",\n",
    "                         \"they call me Elena\",\n",
    "                         \"the names, Elena\"]\n",
    "    \n",
    "}\n",
    "\n",
    "import random\n",
    "def respond(message):\n",
    "    if message in responses:\n",
    "        return random.choice(responses[message])\n",
    "respond(\"what's your name?\")\n",
    "        "
   ]
  },
  {
   "cell_type": "markdown",
   "id": "94e4f5d5",
   "metadata": {},
   "source": [
    "# Asking question"
   ]
  },
  {
   "cell_type": "code",
   "execution_count": 42,
   "id": "4be8633a",
   "metadata": {},
   "outputs": [
    {
     "data": {
      "text/plain": [
       "'you are right!'"
      ]
     },
     "execution_count": 42,
     "metadata": {},
     "output_type": "execute_result"
    }
   ],
   "source": [
    "responses = [\n",
    "    \"tell me more\",\n",
    "    \"why do you think that?\",\n",
    "    \"you are right!\"\n",
    "            ]\n",
    "\n",
    "def respond(message):\n",
    "    return random.choice(responses)\n",
    "\n",
    "respond(\"I beleive you are really great\")"
   ]
  },
  {
   "cell_type": "markdown",
   "id": "8f793c12",
   "metadata": {},
   "source": [
    "# Test processing with regular expressions\n",
    "## Pattern matching"
   ]
  },
  {
   "cell_type": "code",
   "execution_count": 43,
   "id": "09ebd4b4",
   "metadata": {},
   "outputs": [],
   "source": [
    "import re"
   ]
  },
  {
   "cell_type": "code",
   "execution_count": 46,
   "id": "1b21e055",
   "metadata": {},
   "outputs": [
    {
     "name": "stdout",
     "output_type": "stream",
     "text": [
      "string matches!\n"
     ]
    }
   ],
   "source": [
    "pattern = \"do you remember .*\"\n",
    "message = \"do you remember when you are strawberries in the garden\"\n",
    "\n",
    "match = re.search(pattern, message)\n",
    "\n",
    "if match:\n",
    "    print(\"string matches!\")"
   ]
  },
  {
   "cell_type": "markdown",
   "id": "7437b8f3",
   "metadata": {},
   "source": [
    "# Extracting key phrases"
   ]
  },
  {
   "cell_type": "code",
   "execution_count": 47,
   "id": "a9cc3085",
   "metadata": {},
   "outputs": [
    {
     "data": {
      "text/plain": [
       "'if bots took over the world?'"
      ]
     },
     "execution_count": 47,
     "metadata": {},
     "output_type": "execute_result"
    }
   ],
   "source": [
    "pattern = \"if (.*)\"\n",
    "message = \"what would happen if bots took over the world?\"\n",
    "\n",
    "match = re.search(pattern, message)\n",
    "match.group(0)"
   ]
  },
  {
   "cell_type": "code",
   "execution_count": 48,
   "id": "96b0eb55",
   "metadata": {},
   "outputs": [
    {
     "data": {
      "text/plain": [
       "'bots took over the world?'"
      ]
     },
     "execution_count": 48,
     "metadata": {},
     "output_type": "execute_result"
    }
   ],
   "source": [
    "match.group(1)"
   ]
  },
  {
   "cell_type": "code",
   "execution_count": 49,
   "id": "234f4f4e",
   "metadata": {},
   "outputs": [
    {
     "data": {
      "text/plain": [
       "'if bots took over the world?'"
      ]
     },
     "execution_count": 49,
     "metadata": {},
     "output_type": "execute_result"
    }
   ],
   "source": [
    "match.group()"
   ]
  },
  {
   "cell_type": "markdown",
   "id": "c166aac1",
   "metadata": {},
   "source": [
    "### Example for group"
   ]
  },
  {
   "cell_type": "code",
   "execution_count": 62,
   "id": "5c1493d3",
   "metadata": {},
   "outputs": [],
   "source": [
    "import re"
   ]
  },
  {
   "cell_type": "code",
   "execution_count": 109,
   "id": "d3308694",
   "metadata": {},
   "outputs": [],
   "source": [
    "target_string = \"The price of PINEAPPLE ice cream is 20\""
   ]
  },
  {
   "cell_type": "code",
   "execution_count": 112,
   "id": "1d4465f5",
   "metadata": {},
   "outputs": [],
   "source": [
    "# result = re.search(r\"(\\[A-Z]+\\).+(\\d+)\", target_string)\n",
    "result = re.search(r\"(\\b[A-Z]+\\b).+(\\b\\d+)\", target_string)"
   ]
  },
  {
   "cell_type": "code",
   "execution_count": 113,
   "id": "c24365f4",
   "metadata": {},
   "outputs": [
    {
     "data": {
      "text/plain": [
       "'PINEAPPLE'"
      ]
     },
     "execution_count": 113,
     "metadata": {},
     "output_type": "execute_result"
    }
   ],
   "source": [
    "result.group(1)"
   ]
  },
  {
   "cell_type": "code",
   "execution_count": 114,
   "id": "b6aa6a1b",
   "metadata": {},
   "outputs": [
    {
     "data": {
      "text/plain": [
       "'20'"
      ]
     },
     "execution_count": 114,
     "metadata": {},
     "output_type": "execute_result"
    }
   ],
   "source": [
    "result.group(2)"
   ]
  },
  {
   "cell_type": "code",
   "execution_count": 115,
   "id": "d530cb40",
   "metadata": {},
   "outputs": [
    {
     "data": {
      "text/plain": [
       "'PINEAPPLE ice cream is 20'"
      ]
     },
     "execution_count": 115,
     "metadata": {},
     "output_type": "execute_result"
    }
   ],
   "source": [
    "result.group()"
   ]
  },
  {
   "cell_type": "markdown",
   "id": "b3dc67de",
   "metadata": {},
   "source": [
    "# Grammatical transformation"
   ]
  },
  {
   "cell_type": "code",
   "execution_count": 116,
   "id": "d6a36c31",
   "metadata": {},
   "outputs": [
    {
     "data": {
      "text/plain": [
       "'you walk my dog'"
      ]
     },
     "execution_count": 116,
     "metadata": {},
     "output_type": "execute_result"
    }
   ],
   "source": [
    "def swap_pronouns(phrase):\n",
    "    if 'I' in phrase:\n",
    "        return re.sub('I', 'you', phrase)\n",
    "    if 'my' in phrase:\n",
    "        return re.sub('my', 'your', phrase)\n",
    "    \n",
    "    else:\n",
    "        return phrase\n",
    "    \n",
    "swap_pronouns(\"I walk my dog\")"
   ]
  },
  {
   "cell_type": "markdown",
   "id": "da6ad837",
   "metadata": {},
   "source": [
    "# Putting it all together"
   ]
  },
  {
   "cell_type": "code",
   "execution_count": 129,
   "id": "57bbeda6",
   "metadata": {},
   "outputs": [
    {
     "data": {
      "text/plain": [
       "'when you ate strawberries in the garden'"
      ]
     },
     "execution_count": 129,
     "metadata": {},
     "output_type": "execute_result"
    }
   ],
   "source": [
    "pattern = 'do you remember (.*)'\n",
    "message = 'do you remember when you ate strawberries in the garden'\n",
    "\n",
    "phrase = re.search(pattern, message).group(1)\n",
    "\n",
    "phrase"
   ]
  },
  {
   "cell_type": "code",
   "execution_count": null,
   "id": "e824b0ca",
   "metadata": {},
   "outputs": [],
   "source": []
  },
  {
   "cell_type": "code",
   "execution_count": 140,
   "id": "a61e2bf7",
   "metadata": {},
   "outputs": [],
   "source": [
    "class SalaryNotInRangeError(Exception):\n",
    "    def __init__(self, salary, message='salary is not in range 5000$-15000'):\n",
    "        self.salary = salary\n",
    "        self.message = message\n",
    "        super().__init__(message)\n",
    "        \n",
    "    def __str__(self):\n",
    "        return f'{self.salary}---> {self.message}'\n",
    "   "
   ]
  },
  {
   "cell_type": "code",
   "execution_count": 141,
   "id": "74e1441f",
   "metadata": {},
   "outputs": [
    {
     "ename": "SalaryNotInRangeError",
     "evalue": "16000---> salary is not in range 5000$-15000",
     "output_type": "error",
     "traceback": [
      "\u001b[0;31m---------------------------------------------------------------------------\u001b[0m",
      "\u001b[0;31mSalaryNotInRangeError\u001b[0m                     Traceback (most recent call last)",
      "Input \u001b[0;32mIn [141]\u001b[0m, in \u001b[0;36m<cell line: 3>\u001b[0;34m()\u001b[0m\n\u001b[1;32m      1\u001b[0m salary \u001b[38;5;241m=\u001b[39m \u001b[38;5;241m16000\u001b[39m\n\u001b[1;32m      3\u001b[0m \u001b[38;5;28;01mif\u001b[39;00m \u001b[38;5;129;01mnot\u001b[39;00m (\u001b[38;5;241m5000\u001b[39m \u001b[38;5;241m<\u001b[39m salary \u001b[38;5;241m<\u001b[39m \u001b[38;5;241m15000\u001b[39m):\n\u001b[0;32m----> 4\u001b[0m     \u001b[38;5;28;01mraise\u001b[39;00m SalaryNotInRangeError(salary)\n",
      "\u001b[0;31mSalaryNotInRangeError\u001b[0m: 16000---> salary is not in range 5000$-15000"
     ]
    }
   ],
   "source": [
    "salary = 16000\n",
    "\n",
    "if not (5000 < salary < 15000):\n",
    "    raise SalaryNotInRangeError(salary)\n"
   ]
  },
  {
   "cell_type": "code",
   "execution_count": null,
   "id": "20ff45e5",
   "metadata": {},
   "outputs": [],
   "source": []
  }
 ],
 "metadata": {
  "kernelspec": {
   "display_name": "Python 3 (ipykernel)",
   "language": "python",
   "name": "python3"
  },
  "language_info": {
   "codemirror_mode": {
    "name": "ipython",
    "version": 3
   },
   "file_extension": ".py",
   "mimetype": "text/x-python",
   "name": "python",
   "nbconvert_exporter": "python",
   "pygments_lexer": "ipython3",
   "version": "3.9.7"
  }
 },
 "nbformat": 4,
 "nbformat_minor": 5
}
