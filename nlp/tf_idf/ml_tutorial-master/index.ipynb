{
 "cells": [
  {
   "cell_type": "code",
   "execution_count": null,
   "metadata": {},
   "outputs": [],
   "source": [
    "#hide\n",
    "%load_ext autoreload\n",
    "%autoreload 2"
   ]
  },
  {
   "cell_type": "code",
   "execution_count": null,
   "metadata": {},
   "outputs": [],
   "source": [
    "#hide\n",
    "# from ml_tutorial import *"
   ]
  },
  {
   "cell_type": "markdown",
   "metadata": {},
   "source": [
    "# Machine Learning Concepts\n",
    "\n",
    "> This project aims to create intuitive tutorials for some of machine learning concepts."
   ]
  },
  {
   "cell_type": "markdown",
   "metadata": {},
   "source": [
    "## Acknowlegement\n",
    "\n",
    "I would like to give full credit to several outstanding individuals including Tom Mitchell, Andrew Ng, Emily Fox, Ali Farhadi, Pedro Domingos and many others, as lots of the materials presented here have been adopted from their machine learning courses."
   ]
  },
  {
   "cell_type": "markdown",
   "metadata": {},
   "source": [
    "## Topics\n",
    "Topics are constantly updated and new tutorial is added. The current topics are:"
   ]
  },
  {
   "cell_type": "markdown",
   "metadata": {},
   "source": [
    "[1- Introduction to MLE and MAP](mle_map)\n",
    "\n",
    "\n",
    "[2- Naive Bayes Classifier](naive_bayes)\n",
    "\n",
    "\n",
    "[3- Linear Regression](linear_regression)\n",
    "\n",
    "\n",
    "[4- Logistic Regression](logistic_regression)\n",
    "\n",
    "\n",
    "[5- Neural Networks](neural_network)\n",
    "\n",
    "\n",
    "[6- Convolutional Neural Networks](cnn)\n",
    "\n",
    "\n",
    "[7- Autoencoders](autoencoder)\n",
    "\n",
    "\n",
    "[8- Text Search using TF-IDF and Elasticsearch](tfidf)\n",
    "\n",
    "\n",
    "[9- Recurrent Neural Networks (RNN)](rnn)\n",
    "\n",
    "\n",
    "[10- Sentiment Analysis with multilingual Transformers](bert_farsi_sentiment)\n",
    "\n",
    "\n",
    "[11- Multiclass Classification on Imbalanced Dataset](multiclass_classification)\n",
    "\n",
    "\n",
    "\n",
    "\n",
    "\n"
   ]
  }
 ],
 "metadata": {
  "kernelspec": {
   "display_name": "Python 3",
   "language": "python",
   "name": "python3"
  }
 },
 "nbformat": 4,
 "nbformat_minor": 4
}
