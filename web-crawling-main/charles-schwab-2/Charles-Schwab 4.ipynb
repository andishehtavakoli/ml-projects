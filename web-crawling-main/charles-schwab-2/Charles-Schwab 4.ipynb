{
 "cells": [
  {
   "cell_type": "markdown",
   "id": "5391dff4",
   "metadata": {},
   "source": [
    "<img src=\"https://logos-world.net/wp-content/uploads/2021/03/Charles-Schwab-Logo-2001-present.png\" width=550>"
   ]
  },
  {
   "cell_type": "code",
   "execution_count": 1,
   "id": "6bab7119",
   "metadata": {},
   "outputs": [],
   "source": [
    "from selenium import webdriver\n",
    "from webdriver_manager.chrome import ChromeDriverManager\n",
    "from selenium.webdriver.chrome.service import Service\n",
    "from selenium.webdriver.common.by import By\n",
    "from selenium.webdriver.common.keys import Keys\n",
    "from time import sleep\n",
    "import re\n",
    "import requests\n",
    "from bs4 import BeautifulSoup"
   ]
  },
  {
   "cell_type": "code",
   "execution_count": null,
   "id": "cf0a5b8f",
   "metadata": {},
   "outputs": [],
   "source": [
    "class CharlesSchwab:\n",
    "    def __init__(self, ):\n",
    "        \n",
    "        \n",
    "        \n",
    "        \n",
    "        \n",
    "    def extract_tag_content(link):\n",
    "    response = requests.get(link)\n",
    "    soup = BeautifulSoup(response.text, 'lxml')\n",
    "    \n",
    "    tag = soup.find_all(class_='bcn-ps-eyebrow eyebrow-category')\n",
    "    if bool(tag) is True:\n",
    "        tag = tag[0].text.strip()\n",
    "        \n",
    "    else:\n",
    "        tag = 'N/A'\n",
    "        \n",
    "    \n",
    "    raw_content = soup.find_all(class_='bcn-content--story__body bcn-body--l')\n",
    "    if bool(raw_content) is True:\n",
    "        raw_content =  raw_content[0].text\n",
    "        content = re.sub(r'\\s+', ' ', raw_content).strip()\n",
    "        \n",
    "    else:\n",
    "        content = 'N/A'\n",
    "        \n",
    "    return tag, content"
   ]
  },
  {
   "cell_type": "code",
   "execution_count": 2,
   "id": "82deef71",
   "metadata": {},
   "outputs": [],
   "source": [
    "def extract_tag_content(link):\n",
    "    response = requests.get(link)\n",
    "    soup = BeautifulSoup(response.text, 'lxml')\n",
    "    \n",
    "    tag = soup.find_all(class_='bcn-ps-eyebrow eyebrow-category')\n",
    "    if bool(tag) is True:\n",
    "        tag = tag[0].text.strip()\n",
    "        \n",
    "    else:\n",
    "        tag = 'N/A'\n",
    "        \n",
    "    \n",
    "    raw_content = soup.find_all(class_='bcn-content--story__body bcn-body--l')\n",
    "    if bool(raw_content) is True:\n",
    "        raw_content =  raw_content[0].text\n",
    "        content = re.sub(r'\\s+', ' ', raw_content).strip()\n",
    "        \n",
    "    else:\n",
    "        content = 'N/A'\n",
    "        \n",
    "    return tag, content"
   ]
  },
  {
   "cell_type": "code",
   "execution_count": 3,
   "id": "9ab49cdf",
   "metadata": {},
   "outputs": [],
   "source": [
    "schwab_all_list = []"
   ]
  },
  {
   "cell_type": "code",
   "execution_count": 4,
   "id": "749373d4",
   "metadata": {},
   "outputs": [
    {
     "name": "stderr",
     "output_type": "stream",
     "text": [
      "[WDM] - Downloading: 100%|█████████████████| 8.61M/8.61M [00:00<00:00, 14.6MB/s]\n"
     ]
    },
    {
     "ename": "NoSuchElementException",
     "evalue": "Message: no such element: Unable to locate element: {\"method\":\"css selector\",\"selector\":\"[class='pager__item pager__item--next']\"}\n  (Session info: chrome=108.0.5359.124)\nStacktrace:\n0   chromedriver                        0x000000010bee9f38 chromedriver + 4910904\n1   chromedriver                        0x000000010be69a03 chromedriver + 4385283\n2   chromedriver                        0x000000010baae747 chromedriver + 472903\n3   chromedriver                        0x000000010baf334c chromedriver + 754508\n4   chromedriver                        0x000000010baf35a1 chromedriver + 755105\n5   chromedriver                        0x000000010bb36e94 chromedriver + 1031828\n6   chromedriver                        0x000000010bb1913d chromedriver + 909629\n7   chromedriver                        0x000000010bb3428e chromedriver + 1020558\n8   chromedriver                        0x000000010bb18ee3 chromedriver + 909027\n9   chromedriver                        0x000000010bae330c chromedriver + 688908\n10  chromedriver                        0x000000010bae488e chromedriver + 694414\n11  chromedriver                        0x000000010beb71de chromedriver + 4702686\n12  chromedriver                        0x000000010bebbb19 chromedriver + 4721433\n13  chromedriver                        0x000000010bec328e chromedriver + 4752014\n14  chromedriver                        0x000000010bebc91a chromedriver + 4725018\n15  chromedriver                        0x000000010be90b02 chromedriver + 4545282\n16  chromedriver                        0x000000010bedb888 chromedriver + 4851848\n17  chromedriver                        0x000000010bedba05 chromedriver + 4852229\n18  chromedriver                        0x000000010bef1e5f chromedriver + 4943455\n19  libsystem_pthread.dylib             0x00007ff803d0f4f4 _pthread_start + 125\n20  libsystem_pthread.dylib             0x00007ff803d0b00f thread_start + 15\n",
     "output_type": "error",
     "traceback": [
      "\u001b[0;31m---------------------------------------------------------------------------\u001b[0m",
      "\u001b[0;31mNoSuchElementException\u001b[0m                    Traceback (most recent call last)",
      "Input \u001b[0;32mIn [4]\u001b[0m, in \u001b[0;36m<cell line: 6>\u001b[0;34m()\u001b[0m\n\u001b[1;32m     29\u001b[0m     schwab_list\u001b[38;5;241m.\u001b[39mappend(schwab_dict)\n\u001b[1;32m     31\u001b[0m schwab_all_list\u001b[38;5;241m.\u001b[39mappend(schwab_list)\n\u001b[0;32m---> 33\u001b[0m next_page \u001b[38;5;241m=\u001b[39m \u001b[43mdriver\u001b[49m\u001b[38;5;241;43m.\u001b[39;49m\u001b[43mfind_element\u001b[49m\u001b[43m(\u001b[49m\u001b[43mBy\u001b[49m\u001b[38;5;241;43m.\u001b[39;49m\u001b[43mCSS_SELECTOR\u001b[49m\u001b[43m,\u001b[49m\u001b[38;5;124;43m\"\u001b[39;49m\u001b[38;5;124;43m[class=\u001b[39;49m\u001b[38;5;124;43m'\u001b[39;49m\u001b[38;5;124;43mpager__item pager__item--next\u001b[39;49m\u001b[38;5;124;43m'\u001b[39;49m\u001b[38;5;124;43m]\u001b[39;49m\u001b[38;5;124;43m\"\u001b[39;49m\u001b[43m)\u001b[49m\n\u001b[1;32m     34\u001b[0m next_page\u001b[38;5;241m.\u001b[39mclick()\n",
      "File \u001b[0;32m~/opt/anaconda3/lib/python3.9/site-packages/selenium/webdriver/remote/webdriver.py:857\u001b[0m, in \u001b[0;36mWebDriver.find_element\u001b[0;34m(self, by, value)\u001b[0m\n\u001b[1;32m    854\u001b[0m     by \u001b[38;5;241m=\u001b[39m By\u001b[38;5;241m.\u001b[39mCSS_SELECTOR\n\u001b[1;32m    855\u001b[0m     value \u001b[38;5;241m=\u001b[39m \u001b[38;5;124m'\u001b[39m\u001b[38;5;124m[name=\u001b[39m\u001b[38;5;124m\"\u001b[39m\u001b[38;5;132;01m%s\u001b[39;00m\u001b[38;5;124m\"\u001b[39m\u001b[38;5;124m]\u001b[39m\u001b[38;5;124m'\u001b[39m \u001b[38;5;241m%\u001b[39m value\n\u001b[0;32m--> 857\u001b[0m \u001b[38;5;28;01mreturn\u001b[39;00m \u001b[38;5;28;43mself\u001b[39;49m\u001b[38;5;241;43m.\u001b[39;49m\u001b[43mexecute\u001b[49m\u001b[43m(\u001b[49m\u001b[43mCommand\u001b[49m\u001b[38;5;241;43m.\u001b[39;49m\u001b[43mFIND_ELEMENT\u001b[49m\u001b[43m,\u001b[49m\u001b[43m \u001b[49m\u001b[43m{\u001b[49m\n\u001b[1;32m    858\u001b[0m \u001b[43m    \u001b[49m\u001b[38;5;124;43m'\u001b[39;49m\u001b[38;5;124;43musing\u001b[39;49m\u001b[38;5;124;43m'\u001b[39;49m\u001b[43m:\u001b[49m\u001b[43m \u001b[49m\u001b[43mby\u001b[49m\u001b[43m,\u001b[49m\n\u001b[1;32m    859\u001b[0m \u001b[43m    \u001b[49m\u001b[38;5;124;43m'\u001b[39;49m\u001b[38;5;124;43mvalue\u001b[39;49m\u001b[38;5;124;43m'\u001b[39;49m\u001b[43m:\u001b[49m\u001b[43m \u001b[49m\u001b[43mvalue\u001b[49m\u001b[43m}\u001b[49m\u001b[43m)\u001b[49m[\u001b[38;5;124m'\u001b[39m\u001b[38;5;124mvalue\u001b[39m\u001b[38;5;124m'\u001b[39m]\n",
      "File \u001b[0;32m~/opt/anaconda3/lib/python3.9/site-packages/selenium/webdriver/remote/webdriver.py:435\u001b[0m, in \u001b[0;36mWebDriver.execute\u001b[0;34m(self, driver_command, params)\u001b[0m\n\u001b[1;32m    433\u001b[0m response \u001b[38;5;241m=\u001b[39m \u001b[38;5;28mself\u001b[39m\u001b[38;5;241m.\u001b[39mcommand_executor\u001b[38;5;241m.\u001b[39mexecute(driver_command, params)\n\u001b[1;32m    434\u001b[0m \u001b[38;5;28;01mif\u001b[39;00m response:\n\u001b[0;32m--> 435\u001b[0m     \u001b[38;5;28;43mself\u001b[39;49m\u001b[38;5;241;43m.\u001b[39;49m\u001b[43merror_handler\u001b[49m\u001b[38;5;241;43m.\u001b[39;49m\u001b[43mcheck_response\u001b[49m\u001b[43m(\u001b[49m\u001b[43mresponse\u001b[49m\u001b[43m)\u001b[49m\n\u001b[1;32m    436\u001b[0m     response[\u001b[38;5;124m'\u001b[39m\u001b[38;5;124mvalue\u001b[39m\u001b[38;5;124m'\u001b[39m] \u001b[38;5;241m=\u001b[39m \u001b[38;5;28mself\u001b[39m\u001b[38;5;241m.\u001b[39m_unwrap_value(\n\u001b[1;32m    437\u001b[0m         response\u001b[38;5;241m.\u001b[39mget(\u001b[38;5;124m'\u001b[39m\u001b[38;5;124mvalue\u001b[39m\u001b[38;5;124m'\u001b[39m, \u001b[38;5;28;01mNone\u001b[39;00m))\n\u001b[1;32m    438\u001b[0m     \u001b[38;5;28;01mreturn\u001b[39;00m response\n",
      "File \u001b[0;32m~/opt/anaconda3/lib/python3.9/site-packages/selenium/webdriver/remote/errorhandler.py:247\u001b[0m, in \u001b[0;36mErrorHandler.check_response\u001b[0;34m(self, response)\u001b[0m\n\u001b[1;32m    245\u001b[0m         alert_text \u001b[38;5;241m=\u001b[39m value[\u001b[38;5;124m'\u001b[39m\u001b[38;5;124malert\u001b[39m\u001b[38;5;124m'\u001b[39m]\u001b[38;5;241m.\u001b[39mget(\u001b[38;5;124m'\u001b[39m\u001b[38;5;124mtext\u001b[39m\u001b[38;5;124m'\u001b[39m)\n\u001b[1;32m    246\u001b[0m     \u001b[38;5;28;01mraise\u001b[39;00m exception_class(message, screen, stacktrace, alert_text)  \u001b[38;5;66;03m# type: ignore[call-arg]  # mypy is not smart enough here\u001b[39;00m\n\u001b[0;32m--> 247\u001b[0m \u001b[38;5;28;01mraise\u001b[39;00m exception_class(message, screen, stacktrace)\n",
      "\u001b[0;31mNoSuchElementException\u001b[0m: Message: no such element: Unable to locate element: {\"method\":\"css selector\",\"selector\":\"[class='pager__item pager__item--next']\"}\n  (Session info: chrome=108.0.5359.124)\nStacktrace:\n0   chromedriver                        0x000000010bee9f38 chromedriver + 4910904\n1   chromedriver                        0x000000010be69a03 chromedriver + 4385283\n2   chromedriver                        0x000000010baae747 chromedriver + 472903\n3   chromedriver                        0x000000010baf334c chromedriver + 754508\n4   chromedriver                        0x000000010baf35a1 chromedriver + 755105\n5   chromedriver                        0x000000010bb36e94 chromedriver + 1031828\n6   chromedriver                        0x000000010bb1913d chromedriver + 909629\n7   chromedriver                        0x000000010bb3428e chromedriver + 1020558\n8   chromedriver                        0x000000010bb18ee3 chromedriver + 909027\n9   chromedriver                        0x000000010bae330c chromedriver + 688908\n10  chromedriver                        0x000000010bae488e chromedriver + 694414\n11  chromedriver                        0x000000010beb71de chromedriver + 4702686\n12  chromedriver                        0x000000010bebbb19 chromedriver + 4721433\n13  chromedriver                        0x000000010bec328e chromedriver + 4752014\n14  chromedriver                        0x000000010bebc91a chromedriver + 4725018\n15  chromedriver                        0x000000010be90b02 chromedriver + 4545282\n16  chromedriver                        0x000000010bedb888 chromedriver + 4851848\n17  chromedriver                        0x000000010bedba05 chromedriver + 4852229\n18  chromedriver                        0x000000010bef1e5f chromedriver + 4943455\n19  libsystem_pthread.dylib             0x00007ff803d0f4f4 _pthread_start + 125\n20  libsystem_pthread.dylib             0x00007ff803d0b00f thread_start + 15\n"
     ]
    }
   ],
   "source": [
    "service = Service(executable_path=ChromeDriverManager().install())\n",
    "driver = webdriver.Chrome(service=service)\n",
    "driver.implicitly_wait(5)\n",
    "driver.get(\"https://www.schwab.com/resource-center/insights/?type%5Barticle%5D=article\")\n",
    "\n",
    "for i in range(47):\n",
    "    link_list = [i.get_attribute('href') for i in driver.find_elements(By.CSS_SELECTOR, \"[class='main-content clearfix mq--t'] h4[class='icon icon-article'] a\")]\n",
    "    date_list = [i.text for i in driver.find_elements(By.CSS_SELECTOR, \"[class='submitted submitted--article']\")]\n",
    "    abstract_list = [i.text for i in driver.find_elements(By.CSS_SELECTOR, \"[class='main-content clearfix mq--t'] [class='field field--name-body field--type-text-with-summary field--label-hidden field__item']\")]\n",
    "    title_list = [i.text for i in driver.find_elements(By.CSS_SELECTOR, \"[class='main-content clearfix mq--t'] [class='icon icon-article']\")]\n",
    "\n",
    "\n",
    "    schwab_list = []\n",
    "\n",
    "    for link, date, abstract, title in zip(link_list, date_list, abstract_list, title_list):\n",
    "        schwab_dict = {\n",
    "            \"index\": \"\",\n",
    "            \"company\": \"Charles Schwab\",\n",
    "            \"topic\": \"Insight\",\n",
    "            \"tag\": extract_tag_content(link)[0],\n",
    "            \"section\": \"\",\n",
    "            \"title\": title,\n",
    "            \"date\": date,\n",
    "            \"link\": link,\n",
    "            \"abstract\": abstract,\n",
    "            \"content\": extract_tag_content(link)[1]\n",
    "        }\n",
    "\n",
    "        schwab_list.append(schwab_dict)\n",
    "        \n",
    "    schwab_all_list.append(schwab_list)\n",
    "    \n",
    "    next_page = driver.find_element(By.CSS_SELECTOR,\"[class='pager__item pager__item--next']\")\n",
    "    next_page.click()"
   ]
  },
  {
   "cell_type": "code",
   "execution_count": null,
   "id": "9dacaf7f",
   "metadata": {},
   "outputs": [],
   "source": [
    "schwab_insight_list = []\n",
    "for p_8 in schwab_all_list:\n",
    "    for p in p_8:\n",
    "        schwab_insight_list.append(p)"
   ]
  },
  {
   "cell_type": "code",
   "execution_count": null,
   "id": "660ebba4",
   "metadata": {},
   "outputs": [],
   "source": [
    "import json"
   ]
  },
  {
   "cell_type": "code",
   "execution_count": null,
   "id": "2ff4aa6c",
   "metadata": {},
   "outputs": [],
   "source": [
    "with open('schwab_insight_dict.json', 'w') as f:\n",
    "    json.dump(schwab_insight_list,f, indent=4)"
   ]
  },
  {
   "cell_type": "code",
   "execution_count": null,
   "id": "a518a30a",
   "metadata": {},
   "outputs": [],
   "source": [
    "df = pd.DataFrame(schwab_insight_list)"
   ]
  },
  {
   "cell_type": "code",
   "execution_count": null,
   "id": "84dd777c",
   "metadata": {},
   "outputs": [],
   "source": [
    "df"
   ]
  },
  {
   "cell_type": "code",
   "execution_count": null,
   "id": "e81690c3",
   "metadata": {},
   "outputs": [],
   "source": [
    "import seaborn as sns\n",
    "import matplotlib.pyplot as plt\n",
    "\n",
    "sns.set_style('darkgrid')\n",
    "plt.figure(figsize=(16,9))\n",
    "sns.countplot(y=df['tag'], order=df['tag'].value_counts().index)\n",
    "plt.title('Charles Schwab')\n",
    "plt.show()"
   ]
  },
  {
   "cell_type": "code",
   "execution_count": null,
   "id": "227fcce1",
   "metadata": {},
   "outputs": [],
   "source": [
    "len(schwab_all_list)"
   ]
  },
  {
   "cell_type": "code",
   "execution_count": null,
   "id": "9b69da3d",
   "metadata": {},
   "outputs": [],
   "source": [
    "schwab_insight_list = [[j for j in i] for i in schwab_all_list]"
   ]
  },
  {
   "cell_type": "code",
   "execution_count": null,
   "id": "4dd58a9d",
   "metadata": {
    "scrolled": true
   },
   "outputs": [],
   "source": [
    "# w3lib.html.remove_tags()"
   ]
  },
  {
   "cell_type": "code",
   "execution_count": null,
   "id": "6909a09c",
   "metadata": {},
   "outputs": [],
   "source": [
    "len(vanguard_insight_list)"
   ]
  },
  {
   "cell_type": "code",
   "execution_count": null,
   "id": "be0d9619",
   "metadata": {},
   "outputs": [],
   "source": [
    "import pandas as pd "
   ]
  },
  {
   "cell_type": "code",
   "execution_count": null,
   "id": "4d220169",
   "metadata": {},
   "outputs": [],
   "source": [
    "df = pd.read_csv('charls6.csv')"
   ]
  },
  {
   "cell_type": "code",
   "execution_count": null,
   "id": "445a83fc",
   "metadata": {},
   "outputs": [],
   "source": [
    "df"
   ]
  },
  {
   "cell_type": "code",
   "execution_count": null,
   "id": "33fb8970",
   "metadata": {},
   "outputs": [],
   "source": [
    "df['link'][1]"
   ]
  },
  {
   "cell_type": "code",
   "execution_count": null,
   "id": "c8ff0190",
   "metadata": {},
   "outputs": [],
   "source": [
    "https://www.schwab.com/resource-center/insights/content/should-you-dip-into-your-ira-to-buy-first-home"
   ]
  }
 ],
 "metadata": {
  "kernelspec": {
   "display_name": "Python 3 (ipykernel)",
   "language": "python",
   "name": "python3"
  },
  "language_info": {
   "codemirror_mode": {
    "name": "ipython",
    "version": 3
   },
   "file_extension": ".py",
   "mimetype": "text/x-python",
   "name": "python",
   "nbconvert_exporter": "python",
   "pygments_lexer": "ipython3",
   "version": "3.9.7"
  },
  "vscode": {
   "interpreter": {
    "hash": "3f9bca1cfcb273da2ea55547c9e4a65759aa1f00d7393192976b55f2491ee0d8"
   }
  }
 },
 "nbformat": 4,
 "nbformat_minor": 5
}
