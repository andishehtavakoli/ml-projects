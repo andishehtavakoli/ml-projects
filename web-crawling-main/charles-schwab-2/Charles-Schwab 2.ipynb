{
 "cells": [
  {
   "cell_type": "markdown",
   "id": "5391dff4",
   "metadata": {},
   "source": [
    "<img src=\"https://logos-world.net/wp-content/uploads/2021/03/Charles-Schwab-Logo-2001-present.png\" width=550>"
   ]
  },
  {
   "cell_type": "code",
   "execution_count": 1,
   "id": "6bab7119",
   "metadata": {},
   "outputs": [],
   "source": [
    "from selenium import webdriver\n",
    "from webdriver_manager.chrome import ChromeDriverManager\n",
    "from selenium.webdriver.chrome.service import Service\n",
    "from selenium.webdriver.common.by import By\n",
    "from selenium.webdriver.common.keys import Keys\n",
    "from time import sleep\n",
    "import re\n",
    "import requests\n",
    "from bs4 import BeautifulSoup"
   ]
  },
  {
   "cell_type": "code",
   "execution_count": 2,
   "id": "82deef71",
   "metadata": {},
   "outputs": [],
   "source": [
    "def extract_tag_content(link):\n",
    "    response = requests.get(link)\n",
    "    soup = BeautifulSoup(response.text, 'lxml')\n",
    "    \n",
    "    tag = soup.find_all(class_='bcn-ps-eyebrow eyebrow-category')\n",
    "    if bool(tag) is True:\n",
    "        tag = tag[0].text.strip()\n",
    "        \n",
    "    else:\n",
    "        tag = 'N/A'\n",
    "        \n",
    "    \n",
    "    raw_content = soup.find_all(class_='bcn-content--story__body bcn-body--l')\n",
    "    if bool(raw_content) is True:\n",
    "        raw_content =  raw_content[0].text\n",
    "        content = re.sub(r'\\s+', ' ', raw_content).strip()\n",
    "        \n",
    "    else:\n",
    "        content = 'N/A'\n",
    "        \n",
    "    return tag, content"
   ]
  },
  {
   "cell_type": "code",
   "execution_count": 3,
   "id": "9ab49cdf",
   "metadata": {},
   "outputs": [],
   "source": [
    "schwab_all_list = []"
   ]
  },
  {
   "cell_type": "code",
   "execution_count": null,
   "id": "749373d4",
   "metadata": {},
   "outputs": [
    {
     "name": "stderr",
     "output_type": "stream",
     "text": [
      "[WDM] - Downloading: 100%|█████████████████| 8.61M/8.61M [00:00<00:00, 14.6MB/s]\n"
     ]
    }
   ],
   "source": [
    "service = Service(executable_path=ChromeDriverManager().install())\n",
    "driver = webdriver.Chrome(service=service)\n",
    "driver.implicitly_wait(5)\n",
    "driver.get(\"https://www.schwab.com/resource-center/insights/?type%5Barticle%5D=article\")\n",
    "\n",
    "for i in range(47):\n",
    "    link_list = [i.get_attribute('href') for i in driver.find_elements(By.CSS_SELECTOR, \"[class='main-content clearfix mq--t'] h4[class='icon icon-article'] a\")]\n",
    "    date_list = [i.text for i in driver.find_elements(By.CSS_SELECTOR, \"[class='submitted submitted--article']\")]\n",
    "    abstract_list = [i.text for i in driver.find_elements(By.CSS_SELECTOR, \"[class='main-content clearfix mq--t'] [class='field field--name-body field--type-text-with-summary field--label-hidden field__item']\")]\n",
    "    title_list = [i.text for i in driver.find_elements(By.CSS_SELECTOR, \"[class='main-content clearfix mq--t'] [class='icon icon-article']\")]\n",
    "\n",
    "\n",
    "    schwab_list = []\n",
    "\n",
    "    for link, date, abstract, title in zip(link_list, date_list, abstract_list, title_list):\n",
    "        schwab_dict = {\n",
    "            \"index\": \"\",\n",
    "            \"company\": \"Charles Schwab\",\n",
    "            \"topic\": \"Insight\",\n",
    "            \"tag\": extract_tag_content(link)[0],\n",
    "            \"section\": \"\",\n",
    "            \"title\": title,\n",
    "            \"date\": date,\n",
    "            \"link\": link,\n",
    "            \"abstract\": abstract,\n",
    "            \"content\": extract_tag_content(link)[1]\n",
    "        }\n",
    "\n",
    "        schwab_list.append(schwab_dict)\n",
    "        \n",
    "    schwab_all_list.append(schwab_list)\n",
    "    \n",
    "    next_page = driver.find_element(By.CSS_SELECTOR,\"[class='pager__item pager__item--next']\")\n",
    "    next_page.click()"
   ]
  },
  {
   "cell_type": "code",
   "execution_count": null,
   "id": "9dacaf7f",
   "metadata": {},
   "outputs": [],
   "source": [
    "schwab_insight_list = []\n",
    "for p_8 in schwab_all_list:\n",
    "    for p in p_8:\n",
    "        schwab_insight_list.append(p)"
   ]
  },
  {
   "cell_type": "code",
   "execution_count": null,
   "id": "660ebba4",
   "metadata": {},
   "outputs": [],
   "source": [
    "import json"
   ]
  },
  {
   "cell_type": "code",
   "execution_count": null,
   "id": "2ff4aa6c",
   "metadata": {},
   "outputs": [],
   "source": [
    "with open('schwab_insight_dict.json', 'w') as f:\n",
    "    json.dump(schwab_insight_list,f, indent=4)"
   ]
  },
  {
   "cell_type": "code",
   "execution_count": null,
   "id": "a518a30a",
   "metadata": {},
   "outputs": [],
   "source": [
    "df = pd.DataFrame(schwab_insight_list)"
   ]
  },
  {
   "cell_type": "code",
   "execution_count": null,
   "id": "84dd777c",
   "metadata": {},
   "outputs": [],
   "source": [
    "df"
   ]
  },
  {
   "cell_type": "code",
   "execution_count": null,
   "id": "e81690c3",
   "metadata": {},
   "outputs": [],
   "source": [
    "import seaborn as sns\n",
    "import matplotlib.pyplot as plt\n",
    "\n",
    "sns.set_style('darkgrid')\n",
    "plt.figure(figsize=(16,9))\n",
    "sns.countplot(y=df['tag'], order=df['tag'].value_counts().index)\n",
    "plt.title('Charles Schwab')\n",
    "plt.show()"
   ]
  },
  {
   "cell_type": "code",
   "execution_count": null,
   "id": "227fcce1",
   "metadata": {},
   "outputs": [],
   "source": [
    "len(schwab_all_list)"
   ]
  },
  {
   "cell_type": "code",
   "execution_count": null,
   "id": "9b69da3d",
   "metadata": {},
   "outputs": [],
   "source": [
    "schwab_insight_list = [[j for j in i] for i in schwab_all_list]"
   ]
  },
  {
   "cell_type": "code",
   "execution_count": null,
   "id": "4dd58a9d",
   "metadata": {
    "scrolled": true
   },
   "outputs": [],
   "source": [
    "# w3lib.html.remove_tags()"
   ]
  },
  {
   "cell_type": "code",
   "execution_count": null,
   "id": "6909a09c",
   "metadata": {},
   "outputs": [],
   "source": [
    "len(vanguard_insight_list)"
   ]
  },
  {
   "cell_type": "code",
   "execution_count": null,
   "id": "be0d9619",
   "metadata": {},
   "outputs": [],
   "source": [
    "import pandas as pd "
   ]
  },
  {
   "cell_type": "code",
   "execution_count": null,
   "id": "4d220169",
   "metadata": {},
   "outputs": [],
   "source": [
    "df = pd.read_csv('charls6.csv')"
   ]
  },
  {
   "cell_type": "code",
   "execution_count": null,
   "id": "445a83fc",
   "metadata": {},
   "outputs": [],
   "source": [
    "df"
   ]
  },
  {
   "cell_type": "code",
   "execution_count": null,
   "id": "33fb8970",
   "metadata": {},
   "outputs": [],
   "source": [
    "df['link'][1]"
   ]
  },
  {
   "cell_type": "code",
   "execution_count": null,
   "id": "c8ff0190",
   "metadata": {},
   "outputs": [],
   "source": [
    "https://www.schwab.com/resource-center/insights/content/should-you-dip-into-your-ira-to-buy-first-home"
   ]
  }
 ],
 "metadata": {
  "kernelspec": {
   "display_name": "Python 3 (ipykernel)",
   "language": "python",
   "name": "python3"
  },
  "language_info": {
   "codemirror_mode": {
    "name": "ipython",
    "version": 3
   },
   "file_extension": ".py",
   "mimetype": "text/x-python",
   "name": "python",
   "nbconvert_exporter": "python",
   "pygments_lexer": "ipython3",
   "version": "3.9.7"
  },
  "vscode": {
   "interpreter": {
    "hash": "3f9bca1cfcb273da2ea55547c9e4a65759aa1f00d7393192976b55f2491ee0d8"
   }
  }
 },
 "nbformat": 4,
 "nbformat_minor": 5
}
